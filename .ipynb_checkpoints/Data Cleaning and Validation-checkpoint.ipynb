{
 "cells": [
  {
   "cell_type": "code",
   "execution_count": 1,
   "metadata": {},
   "outputs": [],
   "source": [
    "import numpy as np\n",
    "import pandas as pd\n",
    "import matplotlib.pyplot as plt\n",
    "import seaborn as sns\n",
    "%matplotlib inline"
   ]
  },
  {
   "cell_type": "code",
   "execution_count": 3,
   "metadata": {},
   "outputs": [],
   "source": [
    "pd = pd.read_csv('welcome2013.csv', engine='python')"
   ]
  },
  {
   "cell_type": "code",
   "execution_count": 66,
   "metadata": {},
   "outputs": [
    {
     "data": {
      "text/html": [
       "<div>\n",
       "<style scoped>\n",
       "    .dataframe tbody tr th:only-of-type {\n",
       "        vertical-align: middle;\n",
       "    }\n",
       "\n",
       "    .dataframe tbody tr th {\n",
       "        vertical-align: top;\n",
       "    }\n",
       "\n",
       "    .dataframe thead th {\n",
       "        text-align: right;\n",
       "    }\n",
       "</style>\n",
       "<table border=\"1\" class=\"dataframe\">\n",
       "  <thead>\n",
       "    <tr style=\"text-align: right;\">\n",
       "      <th></th>\n",
       "      <th>PMID/PMCID</th>\n",
       "      <th>Publisher</th>\n",
       "      <th>Journal title</th>\n",
       "      <th>Article title</th>\n",
       "      <th>COST (£) charged to Wellcome (inc VAT when charged)</th>\n",
       "    </tr>\n",
       "  </thead>\n",
       "  <tbody>\n",
       "    <tr>\n",
       "      <th>0</th>\n",
       "      <td>NaN</td>\n",
       "      <td>CUP</td>\n",
       "      <td>psychological medicine</td>\n",
       "      <td>Reduced parahippocampal cortical thickness in ...</td>\n",
       "      <td>£0.00</td>\n",
       "    </tr>\n",
       "    <tr>\n",
       "      <th>1</th>\n",
       "      <td>PMC3679557</td>\n",
       "      <td>ACS</td>\n",
       "      <td>biomacromolecules</td>\n",
       "      <td>Structural characterization of a Model Gram-ne...</td>\n",
       "      <td>£2381.04</td>\n",
       "    </tr>\n",
       "    <tr>\n",
       "      <th>2</th>\n",
       "      <td>23043264  PMC3506128</td>\n",
       "      <td>ACS</td>\n",
       "      <td>j med chem</td>\n",
       "      <td>Fumaroylamino-4,5-epoxymorphinans and related ...</td>\n",
       "      <td>£642.56</td>\n",
       "    </tr>\n",
       "    <tr>\n",
       "      <th>3</th>\n",
       "      <td>23438330 PMC3646402</td>\n",
       "      <td>ACS</td>\n",
       "      <td>j med chem</td>\n",
       "      <td>Orvinols with mixed kappa/mu opioid receptor a...</td>\n",
       "      <td>£669.64</td>\n",
       "    </tr>\n",
       "    <tr>\n",
       "      <th>4</th>\n",
       "      <td>23438216 PMC3601604</td>\n",
       "      <td>ACS</td>\n",
       "      <td>j org chem</td>\n",
       "      <td>Regioselective opening of myo-inositol orthoes...</td>\n",
       "      <td>£685.88</td>\n",
       "    </tr>\n",
       "  </tbody>\n",
       "</table>\n",
       "</div>"
      ],
      "text/plain": [
       "              PMID/PMCID Publisher           Journal title  \\\n",
       "0                    NaN       CUP  psychological medicine   \n",
       "1             PMC3679557       ACS       biomacromolecules   \n",
       "2  23043264  PMC3506128        ACS              j med chem   \n",
       "3    23438330 PMC3646402       ACS              j med chem   \n",
       "4   23438216 PMC3601604        ACS              j org chem   \n",
       "\n",
       "                                       Article title  \\\n",
       "0  Reduced parahippocampal cortical thickness in ...   \n",
       "1  Structural characterization of a Model Gram-ne...   \n",
       "2  Fumaroylamino-4,5-epoxymorphinans and related ...   \n",
       "3  Orvinols with mixed kappa/mu opioid receptor a...   \n",
       "4  Regioselective opening of myo-inositol orthoes...   \n",
       "\n",
       "  COST (£) charged to Wellcome (inc VAT when charged)  \n",
       "0                                              £0.00   \n",
       "1                                           £2381.04   \n",
       "2                                            £642.56   \n",
       "3                                            £669.64   \n",
       "4                                            £685.88   "
      ]
     },
     "execution_count": 66,
     "metadata": {},
     "output_type": "execute_result"
    }
   ],
   "source": [
    "pd.head()"
   ]
  },
  {
   "cell_type": "code",
   "execution_count": 67,
   "metadata": {},
   "outputs": [
    {
     "name": "stdout",
     "output_type": "stream",
     "text": [
      "<class 'pandas.core.frame.DataFrame'>\n",
      "RangeIndex: 2127 entries, 0 to 2126\n",
      "Data columns (total 5 columns):\n",
      "PMID/PMCID                                             1928 non-null object\n",
      "Publisher                                              2127 non-null object\n",
      "Journal title                                          2127 non-null object\n",
      "Article title                                          2127 non-null object\n",
      "COST (£) charged to Wellcome (inc VAT when charged)    2127 non-null object\n",
      "dtypes: object(5)\n",
      "memory usage: 83.2+ KB\n"
     ]
    }
   ],
   "source": [
    "pd.info()"
   ]
  },
  {
   "cell_type": "code",
   "execution_count": 20,
   "metadata": {},
   "outputs": [
    {
     "data": {
      "text/plain": [
       "PLoS One                                                   92\n",
       "PLoS ONE                                                   62\n",
       "Journal of Biological Chemistry                            48\n",
       "Nucleic Acids Research                                     21\n",
       "Proceedings of the National Academy of Sciences            19\n",
       "PLoS Neglected Tropical Diseases                           18\n",
       "Human Molecular Genetics                                   18\n",
       "Nature Communications                                      17\n",
       "PLoS Pathogens                                             15\n",
       "Neuroimage                                                 15\n",
       "PLoS Genetics                                              15\n",
       "BMC Public Health                                          14\n",
       "NeuroImage                                                 14\n",
       "PLOS ONE                                                   14\n",
       "Brain                                                      14\n",
       "Movement Disorders                                         13\n",
       "Developmental Cell                                         12\n",
       "Biochemical Journal                                        12\n",
       "Journal of Neuroscience                                    12\n",
       "Journal of General Virology                                11\n",
       "Current Biology                                            10\n",
       "PLOS One                                                   10\n",
       "BMJ                                                        10\n",
       "Cell Reports                                                9\n",
       "Neuron                                                      9\n",
       "European Journal of Immunology                              8\n",
       "Proceedings of the Royal Society B: Biological Sciences     8\n",
       "Journal of Cell Science                                     8\n",
       "Journal of Clinical Endocrinology and Metabolism            8\n",
       "Malaria Journal                                             8\n",
       "                                                           ..\n",
       "Neuropsychobiology                                          1\n",
       "Computational Biology                                       1\n",
       "Acta Dermato Venereologica                                  1\n",
       "Journal of Cheminformatics                                  1\n",
       "Journal of Nutrition Education and Behaviour                1\n",
       "Journal of Small Animal Practice                            1\n",
       "Inflammation Research                                       1\n",
       "Int Journal for Parasitology                                1\n",
       "AIDS Behav                                                  1\n",
       "Reproductive Medicine and Biology                           1\n",
       "ACTA F                                                      1\n",
       "Acta Crystallographica, Section D                           1\n",
       "Acta Crystallography D                                      1\n",
       "Journal of Medicinal Chemistry                              1\n",
       "Human Reproduction                                          1\n",
       "Neuroscientist                                              1\n",
       "Economic History Review                                     1\n",
       "Health Psychology                                           1\n",
       "PLoS Negected Tropical Diseases                             1\n",
       "J Immunol                                                   1\n",
       "Cell Adhesion and Migration                                 1\n",
       "Molecular & Cellular Proteomics                             1\n",
       "AGE                                                         1\n",
       "Vascular Pharmacology                                       1\n",
       "Journal of Gerontology Series A: Medical Sciences           1\n",
       "Neuroscience and Behavioural Reviews                        1\n",
       "Academy of Nutrition and Dietetics                          1\n",
       "Nephrology Dialysis Transplantation                         1\n",
       "Cancer Research                                             1\n",
       "Stem Cell Reports                                           1\n",
       "Name: Journal title, Length: 984, dtype: int64"
      ]
     },
     "execution_count": 20,
     "metadata": {},
     "output_type": "execute_result"
    }
   ],
   "source": [
    "pd['Journal title'].value_counts()"
   ]
  },
  {
   "cell_type": "code",
   "execution_count": 19,
   "metadata": {},
   "outputs": [
    {
     "data": {
      "text/plain": [
       "Exclusive breastfeeding, diarrhoel morbidity and all-couse mortality in infnats of HIV infected                                                                                             2\n",
       "Counterfactual processing of economic action-outcome alternatives in obsessive-compulsive disorder: further evidence of impaired goal-directed behaviour                                    1\n",
       "alpha2delta-1 gene deletion affects somatosensory neuron function and delays mechanical hypersensitivity in response to peripheral nerve damage                                             1\n",
       "Nucleotide Binding by Lhs1p Is Essential for Its Nucleotide Exchange Activity and for Function in Vivo                                                                                      1\n",
       "KIR2DL2 enhances protective and detrimental HLA class I-mediated immunity in chronic viral infection                                                                                        1\n",
       "Bradykinin controls pool size of sensory neurons expressing functional delta-opioid receptors                                                                                               1\n",
       "Molecular phylogeny of a RING E3 ubiquitin ligase, conserved in eukaryotic cells and dominated by homologous components, the muskelin/RanBPM/CTLH complex                                   1\n",
       "Global  mapping of infectious disease                                                                                                                                                       1\n",
       "Prolonged ketamine infusion as a therapy for Complex Regional Pain Syndrome: Synergism with antagonism?                                                                                     1\n",
       "The Cindirella Syndrome: Why do malaria-infected cells burst at midnight?                                                                                                                   1\n",
       "The role of veterinarians in equestrian sport: A comparative review of ethical issues surrounding human and equine sports medicine.                                                         1\n",
       "Novel inverse binding mode of indirubin derivatives yields improved selectivity for DYRK kinases                                                                                            1\n",
       "How does reviewing the evidence change veterinary surgeons' beliefs regarding the treatment of ovine footrot? A quantitative and qualitative study.                                         1\n",
       "Magnetoencephalography of frontotemporal dementia: spationtemprally localized changes during semantic decisions                                                                             1\n",
       "Structure of HLA-A*0301 in complex with a peptide of proteolipid protein: insights into the role of HLA-A alleles in susceptibility to multiple sclerosis.                                  1\n",
       "The Addenbrooke's cognitive examination for the differential diagnosis and longitudinal assessment of patients with Parkinsonian disorders                                                  1\n",
       "Hsc70-induced changes in clathrin-auxilin                                                                                                                                                   1\n",
       "Eph/Ephrin signalling maintains the segregation of eye field cells from adjacent neural plate territories during forebrain morphogenesis                                                    1\n",
       "Clostridium perfringens epsilon toxin H149A mutant as a platform for receptor binding studies                                                                                               1\n",
       "Protein phosphatase 4 is phosphorylated and inactivated by Cdk in response to spindle toxins and interacts with ?-tubulin                                                                   1\n",
       "Understanding the Impact of subsidizing Artemisinin-based  Combination Therapies (ACTs) in the Retail Sector - Results from Focus Group Discussion in rural Kenya                           1\n",
       "Health Economists, Tobacco Control and International Development: On the Economisation of Global Health beyond Neoliberal Structural Adjustment Policies                                    1\n",
       "Mechanism for Recognition of an Unusual Mycobacterial Glycolipid                                                                                                                            1\n",
       "A marble embryo: meanings of a portrait from 1900                                                                                                                                           1\n",
       "Developmental Trajectories of Verbal and Nonverbal Skills in Individuals with a History of Specific Language Impairment: From Childhood to Adolescence                                      1\n",
       "Signaling properties of inorganic polyphosphate in the mammalian brain                                                                                                                      1\n",
       "An experimental study to identify the potential role of pharmacogenomics in determining the occurrence of oxaliplatin-induced liver injury                                                  1\n",
       "Toxocara canis: molecular basis of immune recognition and evasion                                                                                                                           1\n",
       "How should debriefing be undertaken in web-based studies? Findings from randomised controlled trial.                                                                                        1\n",
       "Inhibitory member of the apoptosis-stimulating proteins of the p53 family (iASPP) interacts with protein phosphatase 1 via a noncanonical binding motif.                                    1\n",
       "                                                                                                                                                                                           ..\n",
       "Understanding life together: a brief history of collaboration in biology                                                                                                                    1\n",
       "Quality control parameters on a large dataset of control, regionally dissected human brains for whole genome expression                                                                     1\n",
       "Socio-economic position and childhood multimorbidity: a study using linkage between the Avon Longitudinal Study of Parents and Children and the General Practice Research Database          1\n",
       "Armet/Manf and Creld2 are components of a specialised ER stress response provoked by inappropriate                                                                                          1\n",
       "Metagenomic study of the viruses of African straw-coloured fruit bats: detection of a chiropteran poxvirus and isolation of a novel adenovirus                                              1\n",
       "Life as we know it                                                                                                                                                                          1\n",
       "Metabolic rate and body size are linked with perception of temporal information                                                                                                             1\n",
       "Mannan core branching of lipo(arabino)mannan is\\nrequired for mycobacterial virulence in the context of\\ninnate immunity                                                                    1\n",
       "Knowledge and peri-conceptional use of folic acid for the prevention of neural tube defects in ethnic communities in the United Kingdom: Systematic review and meta-analysis                1\n",
       "Unexpected clinical sequelae of Gitelman syndrome: hypertension in adulthood is common and females have higher potassium requirements                                                       1\n",
       "Association of Human Leukocyte Antigen Alleles and Nevirapine Hypersensitivity in a Malawian HIV-infected population                                                                        1\n",
       "Associations between active commuting and physical and mental wellbeing                                                                                                                     1\n",
       "Advancing the defensive explanation for anxiety disorders: lorazepam effects on human defense are systematically modulated by personality and threat-type                                   1\n",
       "A novel assay of antimycobacterial activity and phagocytosis by human neutrophils                                                                                                           1\n",
       "Tau phosphorylation impacts on its axonal transport and degradation                                                                                                                         1\n",
       "Reversible epigenetic down-regulation of MHC molecules by devil facial tumour disease illustrates immune escape by a contagious cancer                                                      1\n",
       "Intensity statistics in the presence of translational non-crystallographic symmetry                                                                                                         1\n",
       "Conditional Ablation of the Choroideremia Gene Causes Age-Related Changes in Mouse Retinal Pigment Epithelium                                                                               1\n",
       "Autofluoresence-based sorting: rapid and non-perturbing isolation of ultra-pure neutrophils to determine cytokine production                                                                1\n",
       "The product of C9orf72, a gene strongly implicated in neurodegeneration, is structurally related to DENN Rab-GEFs                                                                           1\n",
       "Aggregation modulators interfer with membrane interactions of Beta2 microglobulin fibrils                                                                                                   1\n",
       "Screening for VPS35 mutations in Parkinson's disease                                                                                                                                        1\n",
       "An expression system for screening of proteins for glycan and protein interactions.                                                                                                         1\n",
       "Disclosure issues with HIV+ parents and HIV- children                                                                                                                                       1\n",
       "Transformation of a plasmid-free, genital tract isolate of Chlamydia trachomatis with a plasmid vector carrying a deletion in CDS6 revealed that this gene regulates inclusion phenotype    1\n",
       "Population genomics of the Wolbachia endosymbiont in Drosophila\\nmelanogaster\\n                                                                                                             1\n",
       "S[+]apomorphine is a CNS penetrating activator of the Nrf2-ARE pathway with activity in mouse and patient fibroblast models of amyotrophic lateral sclerosis                                1\n",
       "Solution structure of the QUA1 dimerization domain of pXqua, the Xenopus ortholog of Quaking                                                                                                1\n",
       "Attribution of intentional causation influences the perception of observed movements: behavioural evidence and neural correlates                                                            1\n",
       "Sensitivity to numerosity is not a unique visuospatial psychophysical predictor of mathematical ability                                                                                     1\n",
       "Name: Article title, Length: 2126, dtype: int64"
      ]
     },
     "execution_count": 19,
     "metadata": {},
     "output_type": "execute_result"
    }
   ],
   "source": [
    "pd['Article title'].value_counts()"
   ]
  },
  {
   "cell_type": "code",
   "execution_count": 13,
   "metadata": {},
   "outputs": [],
   "source": [
    "#Seems like there are a lot of repeated journals, from what I can tell the case is a good place to start so I will lower case everything, to eliminate that factor"
   ]
  },
  {
   "cell_type": "code",
   "execution_count": 25,
   "metadata": {},
   "outputs": [],
   "source": [
    "pd['Journal title'] = pd['Journal title'].apply(lambda x: str(x).lower())"
   ]
  },
  {
   "cell_type": "code",
   "execution_count": 29,
   "metadata": {},
   "outputs": [
    {
     "data": {
      "text/plain": [
       "plos one                                                              190\n",
       "journal of biological chemistry                                        53\n",
       "neuroimage                                                             29\n",
       "plos pathogens                                                         24\n",
       "plos genetics                                                          24\n",
       "nucleic acids research                                                 23\n",
       "plos neglected tropical diseases                                       20\n",
       "proceedings of the national academy of sciences                        20\n",
       "human molecular genetics                                               19\n",
       "nature communications                                                  19\n",
       "bmc public health                                                      14\n",
       "brain                                                                  14\n",
       "movement disorders                                                     13\n",
       "biochemical journal                                                    12\n",
       "developmental cell                                                     12\n",
       "journal of neuroscience                                                12\n",
       "journal of general virology                                            11\n",
       "current biology                                                        11\n",
       "bmj                                                                    10\n",
       "bmj open                                                                9\n",
       "neuron                                                                  9\n",
       "plosone                                                                 9\n",
       "plos computational biology                                              9\n",
       "cell reports                                                            9\n",
       "hepatology                                                              8\n",
       "molecular microbiology                                                  8\n",
       "neurobiology of aging                                                   8\n",
       "journal of clinical endocrinology and metabolism                        8\n",
       "european journal of immunology                                          8\n",
       "journal of structural biology                                           8\n",
       "                                                                     ... \n",
       "biomed central                                                          1\n",
       "current opinion in neurobiology                                         1\n",
       "international journal of financial research\\n                           1\n",
       "birth defects research part a: clinical and molecular teratology        1\n",
       "lancet                                                                  1\n",
       "bmc biology                                                             1\n",
       "journal of the american society for mass spectrometry                   1\n",
       "j med internet research                                                 1\n",
       "journal of neurology, neurosurgery & psychiatry                         1\n",
       "lipids in health and disease                                            1\n",
       "j immunol                                                               1\n",
       "stem cell research                                                      1\n",
       "journal of biol chem                                                    1\n",
       "experimental cell research                                              1\n",
       "journal of public health                                                1\n",
       "health psychology                                                       1\n",
       "seminars in oncology                                                    1\n",
       "frontiers in decision neuroscience                                      1\n",
       "neuromolecular medicine                                                 1\n",
       "computational biology                                                   1\n",
       "sci rep                                                                 1\n",
       "chemical society reviews                                                1\n",
       "journal of epidemiology & community health                              1\n",
       "visual neuroscience                                                     1\n",
       "nephrology dialysis and transplantation                                 1\n",
       "plos medicine journal                                                   1\n",
       "bioscience reports                                                      1\n",
       "journal of consulting and clinical psychology                           1\n",
       "influenza other respi viruses.                                          1\n",
       "statistics in medicine                                                  1\n",
       "Name: Journal title, Length: 929, dtype: int64"
      ]
     },
     "execution_count": 29,
     "metadata": {},
     "output_type": "execute_result"
    }
   ],
   "source": [
    "pd['Journal title'].value_counts()"
   ]
  },
  {
   "cell_type": "code",
   "execution_count": 31,
   "metadata": {},
   "outputs": [],
   "source": [
    "#reduced count by 55 by lowering case, now will try to use strip to cut white space"
   ]
  },
  {
   "cell_type": "code",
   "execution_count": 33,
   "metadata": {},
   "outputs": [],
   "source": [
    "pd['Journal title'] = pd['Journal title'].apply(lambda x: x.strip())"
   ]
  },
  {
   "cell_type": "code",
   "execution_count": 34,
   "metadata": {},
   "outputs": [
    {
     "data": {
      "text/plain": [
       "plos one                                                                                     190\n",
       "journal of biological chemistry                                                               53\n",
       "neuroimage                                                                                    29\n",
       "nucleic acids research                                                                        26\n",
       "plos pathogens                                                                                24\n",
       "plos genetics                                                                                 24\n",
       "proceedings of the national academy of sciences                                               22\n",
       "plos neglected tropical diseases                                                              20\n",
       "human molecular genetics                                                                      19\n",
       "nature communications                                                                         19\n",
       "movement disorders                                                                            15\n",
       "bmc public health                                                                             14\n",
       "brain                                                                                         14\n",
       "journal of neuroscience                                                                       13\n",
       "developmental cell                                                                            12\n",
       "biochemical journal                                                                           12\n",
       "journal of general virology                                                                   11\n",
       "current biology                                                                               11\n",
       "bmj                                                                                           10\n",
       "malaria journal                                                                               10\n",
       "neuron                                                                                         9\n",
       "bmj open                                                                                       9\n",
       "cell reports                                                                                   9\n",
       "plosone                                                                                        9\n",
       "journal of virology                                                                            9\n",
       "plos computational biology                                                                     9\n",
       "development                                                                                    9\n",
       "journal of structural biology                                                                  8\n",
       "molecular microbiology                                                                         8\n",
       "european journal of immunology                                                                 8\n",
       "                                                                                            ... \n",
       "public library of science one                                                                  1\n",
       "bmc biology                                                                                    1\n",
       "journal of the american society for mass spectrometry                                          1\n",
       "international journal of geriatric psychiatry                                                  1\n",
       "molecular and cellular proteomics                                                              1\n",
       "health policy planning                                                                         1\n",
       "pntd                                                                                           1\n",
       "journal of autism and developmental disorders                                                  1\n",
       "health: an interdisciplinary journal for the social study of health, illness and medicine      1\n",
       "human reproduction                                                                             1\n",
       "lancet global health                                                                           1\n",
       "health & place                                                                                 1\n",
       "frontiers in endocrinology                                                                     1\n",
       "neuromolecular medicine                                                                        1\n",
       "frontiers in auditory cognitive neuroscience                                                   1\n",
       "computational biology                                                                          1\n",
       "sci rep                                                                                        1\n",
       "chemical society reviews                                                                       1\n",
       "eur j immunol                                                                                  1\n",
       "visual neuroscience                                                                            1\n",
       "nephrology dialysis and transplantation                                                        1\n",
       "vascular pharmacology                                                                          1\n",
       "tetrahedron letters                                                                            1\n",
       "bioscience reports                                                                             1\n",
       "journal of consulting and clinical psychology                                                  1\n",
       "int journal for parasitology                                                                   1\n",
       "genesis: journal of genetics                                                                   1\n",
       "journal of biol chem                                                                           1\n",
       "stem cell research                                                                             1\n",
       "the history of the family                                                                      1\n",
       "Name: Journal title, Length: 895, dtype: int64"
      ]
     },
     "execution_count": 34,
     "metadata": {},
     "output_type": "execute_result"
    }
   ],
   "source": [
    "pd['Journal title'].value_counts()"
   ]
  },
  {
   "cell_type": "code",
   "execution_count": 40,
   "metadata": {},
   "outputs": [],
   "source": [
    "#reduced count by 34. Noticed some Journals don't have spaces, but not sure how to change them programmatically, can only think of removing all spaces, which would reduce readability. Don't think would be a good idea "
   ]
  },
  {
   "cell_type": "code",
   "execution_count": 41,
   "metadata": {},
   "outputs": [],
   "source": [
    "#Will do the same to the Articles"
   ]
  },
  {
   "cell_type": "code",
   "execution_count": 42,
   "metadata": {},
   "outputs": [
    {
     "data": {
      "text/plain": [
       "Exclusive breastfeeding, diarrhoel morbidity and all-couse mortality in infnats of HIV infected                                                                                             2\n",
       "Counterfactual processing of economic action-outcome alternatives in obsessive-compulsive disorder: further evidence of impaired goal-directed behaviour                                    1\n",
       "alpha2delta-1 gene deletion affects somatosensory neuron function and delays mechanical hypersensitivity in response to peripheral nerve damage                                             1\n",
       "Nucleotide Binding by Lhs1p Is Essential for Its Nucleotide Exchange Activity and for Function in Vivo                                                                                      1\n",
       "KIR2DL2 enhances protective and detrimental HLA class I-mediated immunity in chronic viral infection                                                                                        1\n",
       "Bradykinin controls pool size of sensory neurons expressing functional delta-opioid receptors                                                                                               1\n",
       "Molecular phylogeny of a RING E3 ubiquitin ligase, conserved in eukaryotic cells and dominated by homologous components, the muskelin/RanBPM/CTLH complex                                   1\n",
       "Global  mapping of infectious disease                                                                                                                                                       1\n",
       "Prolonged ketamine infusion as a therapy for Complex Regional Pain Syndrome: Synergism with antagonism?                                                                                     1\n",
       "The Cindirella Syndrome: Why do malaria-infected cells burst at midnight?                                                                                                                   1\n",
       "The role of veterinarians in equestrian sport: A comparative review of ethical issues surrounding human and equine sports medicine.                                                         1\n",
       "Novel inverse binding mode of indirubin derivatives yields improved selectivity for DYRK kinases                                                                                            1\n",
       "How does reviewing the evidence change veterinary surgeons' beliefs regarding the treatment of ovine footrot? A quantitative and qualitative study.                                         1\n",
       "Magnetoencephalography of frontotemporal dementia: spationtemprally localized changes during semantic decisions                                                                             1\n",
       "Structure of HLA-A*0301 in complex with a peptide of proteolipid protein: insights into the role of HLA-A alleles in susceptibility to multiple sclerosis.                                  1\n",
       "The Addenbrooke's cognitive examination for the differential diagnosis and longitudinal assessment of patients with Parkinsonian disorders                                                  1\n",
       "Hsc70-induced changes in clathrin-auxilin                                                                                                                                                   1\n",
       "Eph/Ephrin signalling maintains the segregation of eye field cells from adjacent neural plate territories during forebrain morphogenesis                                                    1\n",
       "Clostridium perfringens epsilon toxin H149A mutant as a platform for receptor binding studies                                                                                               1\n",
       "Protein phosphatase 4 is phosphorylated and inactivated by Cdk in response to spindle toxins and interacts with ?-tubulin                                                                   1\n",
       "Understanding the Impact of subsidizing Artemisinin-based  Combination Therapies (ACTs) in the Retail Sector - Results from Focus Group Discussion in rural Kenya                           1\n",
       "Health Economists, Tobacco Control and International Development: On the Economisation of Global Health beyond Neoliberal Structural Adjustment Policies                                    1\n",
       "Mechanism for Recognition of an Unusual Mycobacterial Glycolipid                                                                                                                            1\n",
       "A marble embryo: meanings of a portrait from 1900                                                                                                                                           1\n",
       "Developmental Trajectories of Verbal and Nonverbal Skills in Individuals with a History of Specific Language Impairment: From Childhood to Adolescence                                      1\n",
       "Signaling properties of inorganic polyphosphate in the mammalian brain                                                                                                                      1\n",
       "An experimental study to identify the potential role of pharmacogenomics in determining the occurrence of oxaliplatin-induced liver injury                                                  1\n",
       "Toxocara canis: molecular basis of immune recognition and evasion                                                                                                                           1\n",
       "How should debriefing be undertaken in web-based studies? Findings from randomised controlled trial.                                                                                        1\n",
       "Inhibitory member of the apoptosis-stimulating proteins of the p53 family (iASPP) interacts with protein phosphatase 1 via a noncanonical binding motif.                                    1\n",
       "                                                                                                                                                                                           ..\n",
       "Understanding life together: a brief history of collaboration in biology                                                                                                                    1\n",
       "Quality control parameters on a large dataset of control, regionally dissected human brains for whole genome expression                                                                     1\n",
       "Socio-economic position and childhood multimorbidity: a study using linkage between the Avon Longitudinal Study of Parents and Children and the General Practice Research Database          1\n",
       "Armet/Manf and Creld2 are components of a specialised ER stress response provoked by inappropriate                                                                                          1\n",
       "Metagenomic study of the viruses of African straw-coloured fruit bats: detection of a chiropteran poxvirus and isolation of a novel adenovirus                                              1\n",
       "Life as we know it                                                                                                                                                                          1\n",
       "Metabolic rate and body size are linked with perception of temporal information                                                                                                             1\n",
       "Mannan core branching of lipo(arabino)mannan is\\nrequired for mycobacterial virulence in the context of\\ninnate immunity                                                                    1\n",
       "Knowledge and peri-conceptional use of folic acid for the prevention of neural tube defects in ethnic communities in the United Kingdom: Systematic review and meta-analysis                1\n",
       "Unexpected clinical sequelae of Gitelman syndrome: hypertension in adulthood is common and females have higher potassium requirements                                                       1\n",
       "Association of Human Leukocyte Antigen Alleles and Nevirapine Hypersensitivity in a Malawian HIV-infected population                                                                        1\n",
       "Associations between active commuting and physical and mental wellbeing                                                                                                                     1\n",
       "Advancing the defensive explanation for anxiety disorders: lorazepam effects on human defense are systematically modulated by personality and threat-type                                   1\n",
       "A novel assay of antimycobacterial activity and phagocytosis by human neutrophils                                                                                                           1\n",
       "Tau phosphorylation impacts on its axonal transport and degradation                                                                                                                         1\n",
       "Reversible epigenetic down-regulation of MHC molecules by devil facial tumour disease illustrates immune escape by a contagious cancer                                                      1\n",
       "Intensity statistics in the presence of translational non-crystallographic symmetry                                                                                                         1\n",
       "Conditional Ablation of the Choroideremia Gene Causes Age-Related Changes in Mouse Retinal Pigment Epithelium                                                                               1\n",
       "Autofluoresence-based sorting: rapid and non-perturbing isolation of ultra-pure neutrophils to determine cytokine production                                                                1\n",
       "The product of C9orf72, a gene strongly implicated in neurodegeneration, is structurally related to DENN Rab-GEFs                                                                           1\n",
       "Aggregation modulators interfer with membrane interactions of Beta2 microglobulin fibrils                                                                                                   1\n",
       "Screening for VPS35 mutations in Parkinson's disease                                                                                                                                        1\n",
       "An expression system for screening of proteins for glycan and protein interactions.                                                                                                         1\n",
       "Disclosure issues with HIV+ parents and HIV- children                                                                                                                                       1\n",
       "Transformation of a plasmid-free, genital tract isolate of Chlamydia trachomatis with a plasmid vector carrying a deletion in CDS6 revealed that this gene regulates inclusion phenotype    1\n",
       "Population genomics of the Wolbachia endosymbiont in Drosophila\\nmelanogaster\\n                                                                                                             1\n",
       "S[+]apomorphine is a CNS penetrating activator of the Nrf2-ARE pathway with activity in mouse and patient fibroblast models of amyotrophic lateral sclerosis                                1\n",
       "Solution structure of the QUA1 dimerization domain of pXqua, the Xenopus ortholog of Quaking                                                                                                1\n",
       "Attribution of intentional causation influences the perception of observed movements: behavioural evidence and neural correlates                                                            1\n",
       "Sensitivity to numerosity is not a unique visuospatial psychophysical predictor of mathematical ability                                                                                     1\n",
       "Name: Article title, Length: 2126, dtype: int64"
      ]
     },
     "execution_count": 42,
     "metadata": {},
     "output_type": "execute_result"
    }
   ],
   "source": [
    "pd['Article title'].value_counts()"
   ]
  },
  {
   "cell_type": "code",
   "execution_count": 45,
   "metadata": {},
   "outputs": [
    {
     "data": {
      "text/plain": [
       "0       reduced parahippocampal cortical thickness in ...\n",
       "1       structural characterization of a model gram-ne...\n",
       "2       fumaroylamino-4,5-epoxymorphinans and related ...\n",
       "3       orvinols with mixed kappa/mu opioid receptor a...\n",
       "4       regioselective opening of myo-inositol orthoes...\n",
       "5       comparative structural and functional studies ...\n",
       "6       mapping proteolytic processing in the secretom...\n",
       "7       quantitative silencing of egfp reporter gene b...\n",
       "8       a novel allosteric inhibitor of the uridine di...\n",
       "9       chemical proteomic analysis reveals the drugab...\n",
       "10      locating sweet spots for screening hits and ev...\n",
       "11      synthesis and evaluation of ?-thymidine analog...\n",
       "12      discovery and structure-activity relationships...\n",
       "13      monomeric 14-3-3 has a chaperone-like activity...\n",
       "14      synthesis and in vitro and in vivo characteriz...\n",
       "15      much of the genetic risk of colorectal cancer ...\n",
       "16                    annexin-1 interaction with fpr2/alx\n",
       "17      sialoadhesin ligand expression identifies a su...\n",
       "18      regulation of foxp3+ inducible regulatory t ce...\n",
       "19      discovery of an allosteric inhibitor binding s...\n",
       "20      synthesis of alpha-glucan in mycobacteria invo...\n",
       "21      discovery of ?2 adrenergic receptor ligands us...\n",
       "22      continuous online microdialysis using microflu...\n",
       "23      hydroxy-terminated conjugated polymer nanopart...\n",
       "24      characterizing the fatty acid binding site in ...\n",
       "25      amphipathic polymers facilitate the study of f...\n",
       "26      quantitative dynamics of phosphorproteome: the...\n",
       "27      variable-pitch rectangular cross-section radio...\n",
       "28      design, synthesis and functional activity of l...\n",
       "29      toward biophysical probes for the 5-ht3 recept...\n",
       "                              ...                        \n",
       "2097    shigella ipad has a dual role: signal transduc...\n",
       "2098    does maternal body mass index during pregnancy...\n",
       "2099    obesity and socioeconomic status in developing...\n",
       "2100    combining multiple imputation and meta-analysi...\n",
       "2101    matrix remodelling maintains esc self-renewal ...\n",
       "2102    presynaptic ph and vesicle fusion in drosophil...\n",
       "2103    hyperpolarization-activated ion channels as ta...\n",
       "2104    efficient internalization of mhc i requires ly...\n",
       "2105    proteomic analysis of clathrin interactions in...\n",
       "2106    ecology of zoonotic infectious diseases in bat...\n",
       "2107    low dose rapamycin treatment increases the abi...\n",
       "2108    design and synthesis of cyclic adp-4-thioribos...\n",
       "2109    a prototypical small-molecule modulator uncoup...\n",
       "2110    structure-activity relationship studies of pyr...\n",
       "2111    from on-target to off-target activity: identif...\n",
       "2112    synthesis and structure-activity relationship ...\n",
       "2113    carbon source-induced reprogramming of the cel...\n",
       "2114    prevalence, outcome and risk factors for post-...\n",
       "2115    hiv infected adolescents in southern africa ca...\n",
       "2116    short title: tb and vl breakthrough and failur...\n",
       "2117     sexual behaviour in a rural high hiv prevalence \n",
       "2118    hiv incidence and survival from age-specific s...\n",
       "2119    accelerated biological ageing in hiv-infected ...\n",
       "2120    reduction in early mortality on antiretroviral...\n",
       "2121    risk factors for seropositivity to kaposi sarc...\n",
       "2122    mechanistic links between na+ channel (scn5a) ...\n",
       "2123    evaluation of an empiric risk screening score ...\n",
       "2124    topical umbilical cord care for prevention of ...\n",
       "2125    grassroots community organisations' contributi...\n",
       "2126    a novel community health worker tool outperfor...\n",
       "Name: Article title, Length: 2127, dtype: object"
      ]
     },
     "execution_count": 45,
     "metadata": {},
     "output_type": "execute_result"
    }
   ],
   "source": [
    "pd['Article title'].apply(lambda x: str(x).lower())"
   ]
  },
  {
   "cell_type": "code",
   "execution_count": 46,
   "metadata": {},
   "outputs": [
    {
     "data": {
      "text/plain": [
       "0       Reduced parahippocampal cortical thickness in ...\n",
       "1       Structural characterization of a Model Gram-ne...\n",
       "2       Fumaroylamino-4,5-epoxymorphinans and related ...\n",
       "3       Orvinols with mixed kappa/mu opioid receptor a...\n",
       "4       Regioselective opening of myo-inositol orthoes...\n",
       "5       Comparative Structural and Functional Studies ...\n",
       "6       Mapping Proteolytic Processing in the Secretom...\n",
       "7       Quantitative silencing of EGFP reporter gene b...\n",
       "8       A Novel Allosteric Inhibitor of the Uridine Di...\n",
       "9       Chemical proteomic analysis reveals the drugab...\n",
       "10      Locating Sweet Spots for Screening Hits and Ev...\n",
       "11      Synthesis and evaluation of ?-thymidine analog...\n",
       "12      Discovery and structure-activity relationships...\n",
       "13      Monomeric 14-3-3 has a chaperone-like activity...\n",
       "14      Synthesis and in vitro and in vivo characteriz...\n",
       "15      Much of the genetic risk of colorectal cancer ...\n",
       "16                    Annexin-1 interaction with FPR2/ALX\n",
       "17      Sialoadhesin ligand expression identifies a su...\n",
       "18      Regulation of Foxp3+ Inducible Regulatory T Ce...\n",
       "19      Discovery of an allosteric inhibitor binding s...\n",
       "20      Synthesis of alpha-glucan in mycobacteria invo...\n",
       "21      Discovery of ?2 Adrenergic Receptor Ligands Us...\n",
       "22      Continuous online microdialysis using microflu...\n",
       "23      HYDROXY-TERMINATED CONJUGATED POLYMER NANOPART...\n",
       "24      Characterizing the Fatty Acid Binding Site in ...\n",
       "25      Amphipathic polymers facilitate the study of f...\n",
       "26      Quantitative dynamics of phosphorproteome: the...\n",
       "27      Variable-Pitch Rectangular Cross-section Radio...\n",
       "28      Design, synthesis and functional activity of l...\n",
       "29      Toward biophysical probes for the 5-HT3 recept...\n",
       "                              ...                        \n",
       "2097    Shigella IpaD has a Dual Role: Signal Transduc...\n",
       "2098    Does maternal body mass index during pregnancy...\n",
       "2099    Obesity and socioeconomic status in developing...\n",
       "2100    Combining multiple imputation and meta-analysi...\n",
       "2101    Matrix remodelling maintains ESC self-renewal ...\n",
       "2102    Presynaptic pH and vesicle fusion in Drosophil...\n",
       "2103    Hyperpolarization-activated ion channels as ta...\n",
       "2104    Efficient internalization of MHC I requires ly...\n",
       "2105    Proteomic analysis of clathrin interactions in...\n",
       "2106    Ecology of zoonotic infectious diseases in bat...\n",
       "2107    Low dose rapamycin treatment increases the abi...\n",
       "2108    Design and synthesis of cyclic ADP-4-thioribos...\n",
       "2109    A Prototypical Small-Molecule Modulator Uncoup...\n",
       "2110    Structure-Activity Relationship Studies of Pyr...\n",
       "2111    From On-Target to Off-Target Activity: Identif...\n",
       "2112    Synthesis and structure-activity relationship ...\n",
       "2113    Carbon source-induced reprogramming of the cel...\n",
       "2114    Prevalence, outcome and risk factors for post-...\n",
       "2115    HIV infected adolescents in Southern Africa ca...\n",
       "2116    Short title: TB and VL breakthrough and failur...\n",
       "2117      Sexual behaviour in a rural high HIV prevalence\n",
       "2118    HIV incidence and survival from age-specific s...\n",
       "2119    Accelerated biological ageing in HIV-infected ...\n",
       "2120    Reduction in early mortality on antiretroviral...\n",
       "2121    Risk factors for seropositivity to Kaposi sarc...\n",
       "2122    Mechanistic Links Between Na+ Channel (SCN5A) ...\n",
       "2123    Evaluation of an empiric risk screening score ...\n",
       "2124    Topical umbilical cord care for prevention of ...\n",
       "2125    Grassroots Community Organisations' Contributi...\n",
       "2126    A novel community health worker tool outperfor...\n",
       "Name: Article title, Length: 2127, dtype: object"
      ]
     },
     "execution_count": 46,
     "metadata": {},
     "output_type": "execute_result"
    }
   ],
   "source": [
    "pd['Article title'].apply(lambda x: str(x).strip())"
   ]
  },
  {
   "cell_type": "code",
   "execution_count": 47,
   "metadata": {},
   "outputs": [],
   "source": [
    "#neither reduces count, so no point in modifying the Dataframe"
   ]
  },
  {
   "cell_type": "code",
   "execution_count": 63,
   "metadata": {},
   "outputs": [
    {
     "data": {
      "text/plain": [
       "plos one                           190\n",
       "journal of biological chemistry     53\n",
       "neuroimage                          29\n",
       "nucleic acids research              26\n",
       "plos pathogens                      24\n",
       "Name: Journal title, dtype: int64"
      ]
     },
     "execution_count": 63,
     "metadata": {},
     "output_type": "execute_result"
    }
   ],
   "source": [
    "#Top 5 most common Journals and the amount of articles in each one\n",
    "pd['Journal title'].value_counts().head(5)"
   ]
  },
  {
   "cell_type": "code",
   "execution_count": 65,
   "metadata": {},
   "outputs": [
    {
     "data": {
      "text/plain": [
       "1282    HCN1 and HCN2 in Rat DRG Neurons: Levels in No...\n",
       "1283    Fetal alcohol exposure and IQ at age 8: Eviden...\n",
       "1284    Vitamin B-12 status during pregnancy and child...\n",
       "1285    Validation of Dual Energy X-ray Absorptiometry...\n",
       "1286    Associations of different phenotypes of wheezi...\n",
       "1287    \"Involvement of EphB1 receptors signalling in ...\n",
       "1288    Reactive oxygen species modulate the barrier f...\n",
       "1289    Chronic pravastatin but not atorvastatin treat...\n",
       "1290    Expression of HIV-1 Vpu Leads to Loss of the V...\n",
       "1291    Molecular phylogeny of a RING E3 ubiquitin lig...\n",
       "1292    Anti-Müllerian hormone is not associated with ...\n",
       "1293    A Method for Positive and Negative Selection o...\n",
       "1294    On the importance of countergradients for the ...\n",
       "1295    Telomeric repeats facilitate CENP-ACnp1 incorp...\n",
       "1296    The effect of anti-rosetting agents against ma...\n",
       "1297    Modification of the FoxP3 transcription factor...\n",
       "1298    Regulation of Trypanosoma brusei total and pol...\n",
       "1299    Localised JAK/STAT pathway activation is requi...\n",
       "1303    Automated, high accuracy classification of Par...\n",
       "1304    Prolonged internal displacement and common men...\n",
       "1305    Genetics of callous-unemotional behavior in ch...\n",
       "1414    Meta-analysis of the relationship between mult...\n",
       "1415    Insights into the pathogenesis of enteropathog...\n",
       "1416    Differential localization of the two T.\\nbruce...\n",
       "1417    Atypical integration of motion signals in auti...\n",
       "1418    A heat-shock protein axis regulates VEGFR2 pro...\n",
       "1419    High prevalence of Bovine Tuberculosis in Dair...\n",
       "1420    Functional Significance of SRJ Domain Mutation...\n",
       "1421    The dyslexia candidate locus on 2p12 is associ...\n",
       "1422    G6f-like is an ITAM-containing collagen recept...\n",
       "                              ...                        \n",
       "1553    Resistance to DDT in an urban setting: common ...\n",
       "1554    CHARACTERIZATION OF A NOVEL POPULATION OF LOW-...\n",
       "1555    Crystal structures of the catalytic domain of ...\n",
       "1556    LKB1 mediates the development of conventional ...\n",
       "1557    Using hormones to manage dairy cow fertility: ...\n",
       "1558    How does reviewing the evidence change veterin...\n",
       "1559    Control of multi drug resistance and tuberculo...\n",
       "1560    Plasmodium falciparum vary Gene Expression Hom...\n",
       "1561    Pharmacological inhibition of caspase-2 protec...\n",
       "1562    Population-based CD4 counts in a rural area in...\n",
       "1563    Plant SILAC: stable-isotope labelling with ami...\n",
       "1564    Phagocytosis Is the Main CR3-Mediated Function...\n",
       "1565    Pneumocystis jirovecii pneumonia in tropical a...\n",
       "1566    Phenotypic alteration of neutrophils in the bl...\n",
       "1567    Nicotinic acid receptor GPR109A is down-regula...\n",
       "1568    Genetic Variants of MICB and PLCE1 and associa...\n",
       "1569    Genetic diversity of mycobacterium tuberculosi...\n",
       "1570    Dectin-1 regulates IL-10 production via a MSK1...\n",
       "1571    Modulation of Higher Order Chromatin Conformat...\n",
       "1572    Protein-Protein Interaction Analysis Highlight...\n",
       "1573    Inactivation of the CovR/S Virulence Regulator...\n",
       "1574    Structure of the SCAN domain of human paternal...\n",
       "1575    Structural insights into Clostridium perfringe...\n",
       "1576    Patent human infections with the whipworm, Tri...\n",
       "1577    Limitations of Augmentation Index in the Asses...\n",
       "1578    Historical Zoonoses and Other Changes in Host ...\n",
       "1579    lung macrophages contribute to house dust mite...\n",
       "1580    Increasing adolescent HIV prevalence in easter...\n",
       "1581    Household transmission of rotavirus in a commu...\n",
       "1582    Stimulation of inositol 1,4,5-triphosphate (IP...\n",
       "Name: Article title, Length: 190, dtype: object"
      ]
     },
     "execution_count": 65,
     "metadata": {},
     "output_type": "execute_result"
    }
   ],
   "source": [
    "#Just double checking the amount of articles for each journal\n",
    "pd[pd['Journal title']=='plos one']['Article title']"
   ]
  },
  {
   "cell_type": "code",
   "execution_count": 68,
   "metadata": {},
   "outputs": [
    {
     "data": {
      "text/plain": [
       "0          £0.00\n",
       "1       £2381.04\n",
       "2        £642.56\n",
       "3        £669.64\n",
       "4        £685.88\n",
       "5       £2392.20\n",
       "6       £2367.95\n",
       "7        £649.33\n",
       "8       £1294.59\n",
       "9       £1294.78\n",
       "10      £1329.69\n",
       "11      £1287.20\n",
       "12      £1324.66\n",
       "13       £665.64\n",
       "14      £1006.72\n",
       "15       £238.08\n",
       "16       £265.67\n",
       "17      £2035.00\n",
       "18      £3108.08\n",
       "19      £1267.76\n",
       "20      £2286.73\n",
       "21       £947.07\n",
       "22      £1186.80\n",
       "23       £642.89\n",
       "24      £1533.29\n",
       "25      £2082.74\n",
       "26      £2314.10\n",
       "27       £759.67\n",
       "28      £1565.26\n",
       "29       £572.74\n",
       "          ...   \n",
       "2097    £2236.02\n",
       "2098    £2275.02\n",
       "2099    £2373.57\n",
       "2100     £791.19\n",
       "2101    £1551.49\n",
       "2102    £1961.68\n",
       "2103    £1982.35\n",
       "2104    £2239.22\n",
       "2105    £2377.65\n",
       "2106    £2272.15\n",
       "2107    £1900.70\n",
       "2108    £3026.17\n",
       "2109    £1851.15\n",
       "2110    £1812.89\n",
       "2111    £1816.70\n",
       "2112    £2168.05\n",
       "2113    £1409.96\n",
       "2114    £2400.00\n",
       "2115    £1968.63\n",
       "2116    £2015.72\n",
       "2117    £1836.92\n",
       "2118    £1836.92\n",
       "2119    £1375.80\n",
       "2120    £1836.92\n",
       "2121    £2009.65\n",
       "2122    £1334.15\n",
       "2123    £1834.77\n",
       "2124    £1834.77\n",
       "2125    £2374.52\n",
       "2126    £2034.75\n",
       "Name: COST (£) charged to Wellcome (inc VAT when charged), Length: 2127, dtype: object"
      ]
     },
     "execution_count": 68,
     "metadata": {},
     "output_type": "execute_result"
    }
   ],
   "source": [
    "pd['COST (£) charged to Wellcome (inc VAT when charged)']"
   ]
  },
  {
   "cell_type": "code",
   "execution_count": 69,
   "metadata": {},
   "outputs": [],
   "source": [
    "#Going to remove the pound sign in front of each value"
   ]
  },
  {
   "cell_type": "code",
   "execution_count": 79,
   "metadata": {},
   "outputs": [
    {
     "ename": "ValueError",
     "evalue": "could not convert string to float: '74$'",
     "output_type": "error",
     "traceback": [
      "\u001b[1;31m---------------------------------------------------------------------------\u001b[0m",
      "\u001b[1;31mValueError\u001b[0m                                Traceback (most recent call last)",
      "\u001b[1;32m<ipython-input-79-c9d09d41b151>\u001b[0m in \u001b[0;36m<module>\u001b[1;34m()\u001b[0m\n\u001b[1;32m----> 1\u001b[1;33m \u001b[0mpd\u001b[0m\u001b[1;33m[\u001b[0m\u001b[1;34m'COST (£) charged to Wellcome (inc VAT when charged)'\u001b[0m\u001b[1;33m]\u001b[0m\u001b[1;33m.\u001b[0m\u001b[0mapply\u001b[0m\u001b[1;33m(\u001b[0m\u001b[1;32mlambda\u001b[0m \u001b[0mx\u001b[0m\u001b[1;33m:\u001b[0m \u001b[0mfloat\u001b[0m\u001b[1;33m(\u001b[0m\u001b[0mstr\u001b[0m\u001b[1;33m(\u001b[0m\u001b[0mx\u001b[0m\u001b[1;33m)\u001b[0m\u001b[1;33m[\u001b[0m\u001b[1;36m1\u001b[0m\u001b[1;33m:\u001b[0m\u001b[1;33m]\u001b[0m\u001b[1;33m)\u001b[0m\u001b[1;33m)\u001b[0m\u001b[1;33m\u001b[0m\u001b[0m\n\u001b[0m",
      "\u001b[1;32m~\\Anaconda3\\lib\\site-packages\\pandas\\core\\series.py\u001b[0m in \u001b[0;36mapply\u001b[1;34m(self, func, convert_dtype, args, **kwds)\u001b[0m\n\u001b[0;32m   3192\u001b[0m             \u001b[1;32melse\u001b[0m\u001b[1;33m:\u001b[0m\u001b[1;33m\u001b[0m\u001b[0m\n\u001b[0;32m   3193\u001b[0m                 \u001b[0mvalues\u001b[0m \u001b[1;33m=\u001b[0m \u001b[0mself\u001b[0m\u001b[1;33m.\u001b[0m\u001b[0mastype\u001b[0m\u001b[1;33m(\u001b[0m\u001b[0mobject\u001b[0m\u001b[1;33m)\u001b[0m\u001b[1;33m.\u001b[0m\u001b[0mvalues\u001b[0m\u001b[1;33m\u001b[0m\u001b[0m\n\u001b[1;32m-> 3194\u001b[1;33m                 \u001b[0mmapped\u001b[0m \u001b[1;33m=\u001b[0m \u001b[0mlib\u001b[0m\u001b[1;33m.\u001b[0m\u001b[0mmap_infer\u001b[0m\u001b[1;33m(\u001b[0m\u001b[0mvalues\u001b[0m\u001b[1;33m,\u001b[0m \u001b[0mf\u001b[0m\u001b[1;33m,\u001b[0m \u001b[0mconvert\u001b[0m\u001b[1;33m=\u001b[0m\u001b[0mconvert_dtype\u001b[0m\u001b[1;33m)\u001b[0m\u001b[1;33m\u001b[0m\u001b[0m\n\u001b[0m\u001b[0;32m   3195\u001b[0m \u001b[1;33m\u001b[0m\u001b[0m\n\u001b[0;32m   3196\u001b[0m         \u001b[1;32mif\u001b[0m \u001b[0mlen\u001b[0m\u001b[1;33m(\u001b[0m\u001b[0mmapped\u001b[0m\u001b[1;33m)\u001b[0m \u001b[1;32mand\u001b[0m \u001b[0misinstance\u001b[0m\u001b[1;33m(\u001b[0m\u001b[0mmapped\u001b[0m\u001b[1;33m[\u001b[0m\u001b[1;36m0\u001b[0m\u001b[1;33m]\u001b[0m\u001b[1;33m,\u001b[0m \u001b[0mSeries\u001b[0m\u001b[1;33m)\u001b[0m\u001b[1;33m:\u001b[0m\u001b[1;33m\u001b[0m\u001b[0m\n",
      "\u001b[1;32mpandas/_libs/src\\inference.pyx\u001b[0m in \u001b[0;36mpandas._libs.lib.map_infer\u001b[1;34m()\u001b[0m\n",
      "\u001b[1;32m<ipython-input-79-c9d09d41b151>\u001b[0m in \u001b[0;36m<lambda>\u001b[1;34m(x)\u001b[0m\n\u001b[1;32m----> 1\u001b[1;33m \u001b[0mpd\u001b[0m\u001b[1;33m[\u001b[0m\u001b[1;34m'COST (£) charged to Wellcome (inc VAT when charged)'\u001b[0m\u001b[1;33m]\u001b[0m\u001b[1;33m.\u001b[0m\u001b[0mapply\u001b[0m\u001b[1;33m(\u001b[0m\u001b[1;32mlambda\u001b[0m \u001b[0mx\u001b[0m\u001b[1;33m:\u001b[0m \u001b[0mfloat\u001b[0m\u001b[1;33m(\u001b[0m\u001b[0mstr\u001b[0m\u001b[1;33m(\u001b[0m\u001b[0mx\u001b[0m\u001b[1;33m)\u001b[0m\u001b[1;33m[\u001b[0m\u001b[1;36m1\u001b[0m\u001b[1;33m:\u001b[0m\u001b[1;33m]\u001b[0m\u001b[1;33m)\u001b[0m\u001b[1;33m)\u001b[0m\u001b[1;33m\u001b[0m\u001b[0m\n\u001b[0m",
      "\u001b[1;31mValueError\u001b[0m: could not convert string to float: '74$'"
     ]
    }
   ],
   "source": [
    "pd['COST (£) charged to Wellcome (inc VAT when charged)'].apply(lambda x: float(str(x)[1:]))"
   ]
  },
  {
   "cell_type": "code",
   "execution_count": 86,
   "metadata": {},
   "outputs": [],
   "source": [
    "#Need to remove dollar signs, will use the strip function this time\n",
    "pd['COST (£) charged to Wellcome (inc VAT when charged)'] = pd['COST (£) charged to Wellcome (inc VAT when charged)'].apply(lambda x: x.strip('$'))"
   ]
  },
  {
   "cell_type": "code",
   "execution_count": 88,
   "metadata": {},
   "outputs": [],
   "source": [
    "#Trying again\n",
    "pd['COST (£) charged to Wellcome (inc VAT when charged)'] = pd['COST (£) charged to Wellcome (inc VAT when charged)'].apply(lambda x: float(str(x)[1:]))"
   ]
  },
  {
   "cell_type": "code",
   "execution_count": 95,
   "metadata": {},
   "outputs": [
    {
     "name": "stdout",
     "output_type": "stream",
     "text": [
      "mean: 2606.82\n",
      "median: 321.38\n",
      "std: 14782.65\n"
     ]
    }
   ],
   "source": [
    "print('mean: {}'.format(round(pd['COST (£) charged to Wellcome (inc VAT when charged)'].mean(),2)))\n",
    "print('median: {}'.format(round(pd['COST (£) charged to Wellcome (inc VAT when charged)'].median(),2)))\n",
    "print('std: {}'.format(round(pd['COST (£) charged to Wellcome (inc VAT when charged)'].std(),2)))"
   ]
  },
  {
   "cell_type": "code",
   "execution_count": 96,
   "metadata": {},
   "outputs": [
    {
     "data": {
      "text/plain": [
       "count     2127.000000\n",
       "mean      2606.823282\n",
       "std      14782.653005\n",
       "min          0.000000\n",
       "25%         69.715000\n",
       "50%        321.380000\n",
       "75%        620.000000\n",
       "max      99999.000000\n",
       "Name: COST (£) charged to Wellcome (inc VAT when charged), dtype: float64"
      ]
     },
     "execution_count": 96,
     "metadata": {},
     "output_type": "execute_result"
    }
   ],
   "source": [
    "pd['COST (£) charged to Wellcome (inc VAT when charged)'].describe()"
   ]
  },
  {
   "cell_type": "code",
   "execution_count": 105,
   "metadata": {},
   "outputs": [
    {
     "data": {
      "text/plain": [
       "<matplotlib.axes._subplots.AxesSubplot at 0x1d61fe7b898>"
      ]
     },
     "execution_count": 105,
     "metadata": {},
     "output_type": "execute_result"
    },
    {
     "data": {
      "image/png": "[encoded data removed]",
      "text/plain": [
       "<Figure size 432x288 with 1 Axes>"
      ]
     },
     "metadata": {
      "needs_background": "light"
     },
     "output_type": "display_data"
    }
   ],
   "source": [
    "pd['COST (£) charged to Wellcome (inc VAT when charged)'].hist()"
   ]
  },
  {
   "cell_type": "code",
   "execution_count": 107,
   "metadata": {},
   "outputs": [
    {
     "data": {
      "text/plain": [
       "<matplotlib.axes._subplots.AxesSubplot at 0x1d61fefe240>"
      ]
     },
     "execution_count": 107,
     "metadata": {},
     "output_type": "execute_result"
    },
    {
     "data": {
      "image/png": "[encoded data removed]",
      "text/plain": [
       "<Figure size 432x288 with 1 Axes>"
      ]
     },
     "metadata": {
      "needs_background": "light"
     },
     "output_type": "display_data"
    }
   ],
   "source": [
    "pd.boxplot(column='COST (£) charged to Wellcome (inc VAT when charged)')"
   ]
  },
  {
   "cell_type": "code",
   "execution_count": 101,
   "metadata": {},
   "outputs": [],
   "source": [
    "#99,999 seems a little high... probably a typo. It's throwing off all the metrics"
   ]
  },
  {
   "cell_type": "code",
   "execution_count": 110,
   "metadata": {},
   "outputs": [
    {
     "data": {
      "text/plain": [
       "count    2079.000000\n",
       "mean      361.767734\n",
       "std       307.384641\n",
       "min         0.000000\n",
       "25%        68.000000\n",
       "50%       315.780000\n",
       "75%       569.405000\n",
       "max      3200.000000\n",
       "Name: COST (£) charged to Wellcome (inc VAT when charged), dtype: float64"
      ]
     },
     "execution_count": 110,
     "metadata": {},
     "output_type": "execute_result"
    }
   ],
   "source": [
    "#Metrics minus the extreme values\n",
    "pd[pd['COST (£) charged to Wellcome (inc VAT when charged)']<40000]['COST (£) charged to Wellcome (inc VAT when charged)'].describe()"
   ]
  },
  {
   "cell_type": "code",
   "execution_count": 112,
   "metadata": {},
   "outputs": [
    {
     "name": "stdout",
     "output_type": "stream",
     "text": [
      "1070.81\n"
     ]
    }
   ],
   "source": [
    "#it seems reasonable to me to set the outliers to a max value of Q3 + 1.5xIQR\n",
    "IQR = 569.405-68\n",
    "new_value = 569.405 + IQR\n",
    "print(new_value)"
   ]
  },
  {
   "cell_type": "code",
   "execution_count": 124,
   "metadata": {},
   "outputs": [],
   "source": [
    "#Tried to assign the new value this way, but didnt work\n",
    "pd[pd['COST (£) charged to Wellcome (inc VAT when charged)']>40000]['COST (£) charged to Wellcome (inc VAT when charged)']=1070.81"
   ]
  },
  {
   "cell_type": "code",
   "execution_count": 125,
   "metadata": {},
   "outputs": [],
   "source": [
    "#This way works\n",
    "pd.loc[pd['COST (£) charged to Wellcome (inc VAT when charged)']>40000, 'COST (£) charged to Wellcome (inc VAT when charged)'] = 1070.81"
   ]
  },
  {
   "cell_type": "code",
   "execution_count": 126,
   "metadata": {},
   "outputs": [
    {
     "data": {
      "text/plain": [
       "<matplotlib.axes._subplots.AxesSubplot at 0x1d620109358>"
      ]
     },
     "execution_count": 126,
     "metadata": {},
     "output_type": "execute_result"
    },
    {
     "data": {
      "image/png": "[encoded data removed]",
      "text/plain": [
       "<Figure size 432x288 with 1 Axes>"
      ]
     },
     "metadata": {
      "needs_background": "light"
     },
     "output_type": "display_data"
    }
   ],
   "source": [
    "#Eliminated the extreme outliers. One still left at 3,200 but thats reasonable compared to the rest. Distribution isnt normal, but makes more sense than before\n",
    "pd['COST (£) charged to Wellcome (inc VAT when charged)'].hist(bins=50)"
   ]
  },
  {
   "cell_type": "code",
   "execution_count": 127,
   "metadata": {},
   "outputs": [
    {
     "data": {
      "text/plain": [
       "count    2127.000000\n",
       "mean      377.768688\n",
       "std       321.631160\n",
       "min         0.000000\n",
       "25%        69.715000\n",
       "50%       321.380000\n",
       "75%       620.000000\n",
       "max      3200.000000\n",
       "Name: COST (£) charged to Wellcome (inc VAT when charged), dtype: float64"
      ]
     },
     "execution_count": 127,
     "metadata": {},
     "output_type": "execute_result"
    }
   ],
   "source": [
    "pd['COST (£) charged to Wellcome (inc VAT when charged)'].describe()"
   ]
  },
  {
   "cell_type": "code",
   "execution_count": 135,
   "metadata": {},
   "outputs": [
    {
     "data": {
      "text/plain": [
       "Journal title\n",
       "academy of nutrition and dietetics                                                         379.540000\n",
       "acs chemical biology                                                                       238.186000\n",
       "acs chemical neuroscience                                                                  186.800000\n",
       "acs nano                                                                                    68.140000\n",
       "acta crystallographica section d,  biological crystallography                               71.420000\n",
       "acta crystallographica section d: biological crystallography                                73.740000\n",
       "acta crystallographica section f: structural biology and crystallization communications     46.635000\n",
       "acta crystallographica, section d                                                           57.180000\n",
       "acta crystallography d                                                                      74.190000\n",
       "acta d                                                                                      50.160000\n",
       "acta dermato venereologica                                                                  53.960000\n",
       "acta diabetologica                                                                         336.280000\n",
       "acta f                                                                                      54.900000\n",
       "acta neuropathol                                                                           901.040000\n",
       "acta neuropathologica                                                                      494.396667\n",
       "acta opthalmologica                                                                        270.160000\n",
       "acta physiol                                                                               991.500000\n",
       "addiction                                                                                  636.225000\n",
       "advances in experimental medicine and biology                                              928.457500\n",
       "age                                                                                        170.140000\n",
       "age and ageing                                                                              40.000000\n",
       "ageing & society                                                                           695.000000\n",
       "aging cell                                                                                 970.570000\n",
       "aids                                                                                       725.973333\n",
       "aids behav                                                                                 834.770000\n",
       "aids care                                                                                  294.225000\n",
       "aids journal                                                                                15.720000\n",
       "aids research and therapy                                                                  240.000000\n",
       "aids uk                                                                                    836.920000\n",
       "alcohol and alcoholism                                                                      40.000000\n",
       "                                                                                              ...    \n",
       "tissue engineering: part a                                                                 741.320000\n",
       "traffic                                                                                    462.671667\n",
       "transactions of the royal society of tropical medicine and hygiene                         524.080000\n",
       "translational psychiatry                                                                   880.000000\n",
       "trends in cognitive science                                                                340.630000\n",
       "trends in genetics                                                                         370.935000\n",
       "trends in microbiology                                                                     291.330000\n",
       "trends in molecular medicine                                                               248.330000\n",
       "trends in neuroscience                                                                     402.810000\n",
       "trends in neurosciences                                                                    748.885000\n",
       "trends in parasitology                                                                     460.942500\n",
       "trials                                                                                     374.542000\n",
       "trop med int health                                                                        834.770000\n",
       "tropical animal health & production                                                         54.780000\n",
       "tropical medicine and international health                                                 843.163333\n",
       "tuberculosis                                                                               661.255000\n",
       "urban history                                                                               34.000000\n",
       "urolithiasis                                                                               112.400000\n",
       "vaccine                                                                                    423.394000\n",
       "vascular pharmacology                                                                      352.530000\n",
       "veterinary microbiology                                                                    451.490000\n",
       "veterinary parasitology                                                                    779.490000\n",
       "veterinary record                                                                           40.000000\n",
       "veterinary research                                                                          0.930000\n",
       "virology                                                                                   428.505000\n",
       "virology journal                                                                           242.000000\n",
       "virus research                                                                             947.090000\n",
       "vision research                                                                            763.495000\n",
       "visual neuroscience                                                                         34.000000\n",
       "zoonoses and public health                                                                 272.150000\n",
       "Name: COST (£) charged to Wellcome (inc VAT when charged), Length: 895, dtype: float64"
      ]
     },
     "execution_count": 135,
     "metadata": {},
     "output_type": "execute_result"
    }
   ],
   "source": [
    "#Mean cost per journal \n",
    "pd.groupby('Journal title')['COST (£) charged to Wellcome (inc VAT when charged)'].mean()"
   ]
  },
  {
   "cell_type": "code",
   "execution_count": 136,
   "metadata": {},
   "outputs": [
    {
     "data": {
      "text/plain": [
       "Journal title\n",
       "academy of nutrition and dietetics                                                         379.540\n",
       "acs chemical biology                                                                       286.730\n",
       "acs chemical neuroscience                                                                  186.800\n",
       "acs nano                                                                                    68.140\n",
       "acta crystallographica section d,  biological crystallography                               71.420\n",
       "acta crystallographica section d: biological crystallography                                73.740\n",
       "acta crystallographica section f: structural biology and crystallization communications     46.635\n",
       "acta crystallographica, section d                                                           57.180\n",
       "acta crystallography d                                                                      74.190\n",
       "acta d                                                                                      50.160\n",
       "acta dermato venereologica                                                                  53.960\n",
       "acta diabetologica                                                                         336.280\n",
       "acta f                                                                                      54.900\n",
       "acta neuropathol                                                                           901.040\n",
       "acta neuropathologica                                                                      348.210\n",
       "acta opthalmologica                                                                        270.160\n",
       "acta physiol                                                                               991.500\n",
       "addiction                                                                                  636.225\n",
       "advances in experimental medicine and biology                                              928.460\n",
       "age                                                                                        170.140\n",
       "age and ageing                                                                              40.000\n",
       "ageing & society                                                                           695.000\n",
       "aging cell                                                                                 970.570\n",
       "aids                                                                                       834.770\n",
       "aids behav                                                                                 834.770\n",
       "aids care                                                                                  316.010\n",
       "aids journal                                                                                15.720\n",
       "aids research and therapy                                                                  240.000\n",
       "aids uk                                                                                    836.920\n",
       "alcohol and alcoholism                                                                      40.000\n",
       "                                                                                            ...   \n",
       "tissue engineering: part a                                                                 741.320\n",
       "traffic                                                                                    373.155\n",
       "transactions of the royal society of tropical medicine and hygiene                         524.080\n",
       "translational psychiatry                                                                   880.000\n",
       "trends in cognitive science                                                                340.630\n",
       "trends in genetics                                                                         370.935\n",
       "trends in microbiology                                                                     291.330\n",
       "trends in molecular medicine                                                               248.330\n",
       "trends in neuroscience                                                                     402.810\n",
       "trends in neurosciences                                                                    748.885\n",
       "trends in parasitology                                                                     384.110\n",
       "trials                                                                                     165.000\n",
       "trop med int health                                                                        834.770\n",
       "tropical animal health & production                                                         54.780\n",
       "tropical medicine and international health                                                 883.625\n",
       "tuberculosis                                                                               661.255\n",
       "urban history                                                                               34.000\n",
       "urolithiasis                                                                               112.400\n",
       "vaccine                                                                                    433.340\n",
       "vascular pharmacology                                                                      352.530\n",
       "veterinary microbiology                                                                    451.490\n",
       "veterinary parasitology                                                                    779.490\n",
       "veterinary record                                                                           40.000\n",
       "veterinary research                                                                          0.930\n",
       "virology                                                                                   428.505\n",
       "virology journal                                                                           242.000\n",
       "virus research                                                                             947.090\n",
       "vision research                                                                            763.495\n",
       "visual neuroscience                                                                         34.000\n",
       "zoonoses and public health                                                                 272.150\n",
       "Name: COST (£) charged to Wellcome (inc VAT when charged), Length: 895, dtype: float64"
      ]
     },
     "execution_count": 136,
     "metadata": {},
     "output_type": "execute_result"
    }
   ],
   "source": [
    "#Median cost per journal \n",
    "pd.groupby('Journal title')['COST (£) charged to Wellcome (inc VAT when charged)'].median()"
   ]
  },
  {
   "cell_type": "code",
   "execution_count": 141,
   "metadata": {},
   "outputs": [
    {
     "data": {
      "text/plain": [
       "Journal title\n",
       "academy of nutrition and dietetics                                                           0.000000\n",
       "acs chemical biology                                                                        96.063270\n",
       "acs chemical neuroscience                                                                    0.000000\n",
       "acs nano                                                                                    25.250000\n",
       "acta crystallographica section d,  biological crystallography                                0.000000\n",
       "acta crystallographica section d: biological crystallography                                 0.000000\n",
       "acta crystallographica section f: structural biology and crystallization communications     38.965000\n",
       "acta crystallographica, section d                                                            0.000000\n",
       "acta crystallography d                                                                       0.000000\n",
       "acta d                                                                                       0.000000\n",
       "acta dermato venereologica                                                                   0.000000\n",
       "acta diabetologica                                                                           0.000000\n",
       "acta f                                                                                       0.000000\n",
       "acta neuropathol                                                                             0.000000\n",
       "acta neuropathologica                                                                      278.343692\n",
       "acta opthalmologica                                                                          0.000000\n",
       "acta physiol                                                                                 0.000000\n",
       "addiction                                                                                  283.285000\n",
       "advances in experimental medicine and biology                                                0.004330\n",
       "age                                                                                        168.140000\n",
       "age and ageing                                                                               0.000000\n",
       "ageing & society                                                                             0.000000\n",
       "aging cell                                                                                   0.000000\n",
       "aids                                                                                       254.452627\n",
       "aids behav                                                                                   0.000000\n",
       "aids care                                                                                  109.479338\n",
       "aids journal                                                                                 0.000000\n",
       "aids research and therapy                                                                    0.000000\n",
       "aids uk                                                                                      0.000000\n",
       "alcohol and alcoholism                                                                       0.000000\n",
       "                                                                                              ...    \n",
       "tissue engineering: part a                                                                   0.000000\n",
       "traffic                                                                                    245.612884\n",
       "transactions of the royal society of tropical medicine and hygiene                           0.000000\n",
       "translational psychiatry                                                                     0.000000\n",
       "trends in cognitive science                                                                  0.000000\n",
       "trends in genetics                                                                           2.825000\n",
       "trends in microbiology                                                                       0.000000\n",
       "trends in molecular medicine                                                                 0.000000\n",
       "trends in neuroscience                                                                       0.000000\n",
       "trends in neurosciences                                                                    321.925000\n",
       "trends in parasitology                                                                     388.531020\n",
       "trials                                                                                     356.776377\n",
       "trop med int health                                                                          0.000000\n",
       "tropical animal health & production                                                          0.000000\n",
       "tropical medicine and international health                                                 147.101613\n",
       "tuberculosis                                                                               338.685000\n",
       "urban history                                                                                0.000000\n",
       "urolithiasis                                                                                 0.000000\n",
       "vaccine                                                                                     50.287224\n",
       "vascular pharmacology                                                                        0.000000\n",
       "veterinary microbiology                                                                      0.000000\n",
       "veterinary parasitology                                                                    291.320000\n",
       "veterinary record                                                                            0.000000\n",
       "veterinary research                                                                          0.000000\n",
       "virology                                                                                     6.545000\n",
       "virology journal                                                                             0.000000\n",
       "virus research                                                                               0.000000\n",
       "vision research                                                                            307.315000\n",
       "visual neuroscience                                                                          0.000000\n",
       "zoonoses and public health                                                                   0.000000\n",
       "Name: COST (£) charged to Wellcome (inc VAT when charged), Length: 895, dtype: float64"
      ]
     },
     "execution_count": 141,
     "metadata": {},
     "output_type": "execute_result"
    }
   ],
   "source": [
    "#Std cost per journal, population std \n",
    "pd.groupby('Journal title')['COST (£) charged to Wellcome (inc VAT when charged)'].apply(lambda x:np.std(x))"
   ]
  },
  {
   "cell_type": "code",
   "execution_count": 145,
   "metadata": {},
   "outputs": [
    {
     "data": {
      "text/html": [
       "<div>\n",
       "<style scoped>\n",
       "    .dataframe tbody tr th:only-of-type {\n",
       "        vertical-align: middle;\n",
       "    }\n",
       "\n",
       "    .dataframe tbody tr th {\n",
       "        vertical-align: top;\n",
       "    }\n",
       "\n",
       "    .dataframe thead th {\n",
       "        text-align: right;\n",
       "    }\n",
       "</style>\n",
       "<table border=\"1\" class=\"dataframe\">\n",
       "  <thead>\n",
       "    <tr style=\"text-align: right;\">\n",
       "      <th></th>\n",
       "      <th></th>\n",
       "      <th>COST (£) charged to Wellcome (inc VAT when charged)</th>\n",
       "    </tr>\n",
       "    <tr>\n",
       "      <th>Journal title</th>\n",
       "      <th>Article title</th>\n",
       "      <th></th>\n",
       "    </tr>\n",
       "  </thead>\n",
       "  <tbody>\n",
       "    <tr>\n",
       "      <th>academy of nutrition and dietetics</th>\n",
       "      <th>Parent support and parent mediated behaviours are associated with children's sugary beverage consumption</th>\n",
       "      <td>379.54</td>\n",
       "    </tr>\n",
       "    <tr>\n",
       "      <th rowspan=\"5\" valign=\"top\">acs chemical biology</th>\n",
       "      <th>A Novel Allosteric Inhibitor of the Uridine Diphosphate N-Acetylglucosamine Pyrophosphorylase from Trypanosoma brucei.</th>\n",
       "      <td>294.59</td>\n",
       "    </tr>\n",
       "    <tr>\n",
       "      <th>Chemical proteomic analysis reveals the drugability of the kinome of Trypanosoma brucei.</th>\n",
       "      <td>294.78</td>\n",
       "    </tr>\n",
       "    <tr>\n",
       "      <th>Discovery of ?2 Adrenergic Receptor Ligands Using Biosensor Fragment Screening of Tagged Wild-Type Receptor</th>\n",
       "      <td>47.07</td>\n",
       "    </tr>\n",
       "    <tr>\n",
       "      <th>Discovery of an allosteric inhibitor binding site in 3-oxo-acyl-ACP reductase from Pseudomonas aeruginosa</th>\n",
       "      <td>267.76</td>\n",
       "    </tr>\n",
       "    <tr>\n",
       "      <th>Synthesis of alpha-glucan in mycobacteria involves a hetero-octameric complex of trehalose synthase TreS and maltokinase Pep2</th>\n",
       "      <td>286.73</td>\n",
       "    </tr>\n",
       "    <tr>\n",
       "      <th>acs chemical neuroscience</th>\n",
       "      <th>Continuous online microdialysis using microfluidic sensors: dynamic neuro-metabolic changes during spreading depolarisation</th>\n",
       "      <td>186.80</td>\n",
       "    </tr>\n",
       "    <tr>\n",
       "      <th rowspan=\"2\" valign=\"top\">acs nano</th>\n",
       "      <th>HYDROXY-TERMINATED CONJUGATED POLYMER NANOPARTICLES HAVE NEAR-UNITY BRIGHT FRACTION</th>\n",
       "      <td>42.89</td>\n",
       "    </tr>\n",
       "    <tr>\n",
       "      <th>Skin dendritic cell targeting via microneedle arrays laden with antigen-encapsulated poly-D,L-lactide-co-glycolide nanoparticles induces efficient antitumor and antiviral immune responses.</th>\n",
       "      <td>93.39</td>\n",
       "    </tr>\n",
       "    <tr>\n",
       "      <th>acta crystallographica section d,  biological crystallography</th>\n",
       "      <th>Clustering procedures for the optimal selection of data sets from multiple crystals in macromolecular  crystallography</th>\n",
       "      <td>71.42</td>\n",
       "    </tr>\n",
       "    <tr>\n",
       "      <th>acta crystallographica section d: biological crystallography</th>\n",
       "      <th>Intensity statistics in the presence of translational non-crystallographic symmetry</th>\n",
       "      <td>73.74</td>\n",
       "    </tr>\n",
       "    <tr>\n",
       "      <th rowspan=\"2\" valign=\"top\">acta crystallographica section f: structural biology and crystallization communications</th>\n",
       "      <th>Structure of Pseudomonas aeruginosa inosine 5'-monophosphate dehydrogenase</th>\n",
       "      <td>7.67</td>\n",
       "    </tr>\n",
       "    <tr>\n",
       "      <th>Structure of diaminohydroxyphosphoribosylaminopyrimidine deaminase/5-amino-6-(5-phosphoribosylamino)uracil reductase from Acinetobacter baumannii.</th>\n",
       "      <td>85.60</td>\n",
       "    </tr>\n",
       "    <tr>\n",
       "      <th>acta crystallographica, section d</th>\n",
       "      <th>Nearest-cell: a fast and easy tool for locating crystal matches in the PDB.</th>\n",
       "      <td>57.18</td>\n",
       "    </tr>\n",
       "    <tr>\n",
       "      <th>acta crystallography d</th>\n",
       "      <th>Crystallization, dehydration and experimental phasing of WbdD, a bifunctional kinase and methyltransferase from Escherichia coli O9a</th>\n",
       "      <td>74.19</td>\n",
       "    </tr>\n",
       "    <tr>\n",
       "      <th>acta d</th>\n",
       "      <th>Structure of HLA-A*0301 in complex with a peptide of proteolipid protein: insights into the role of HLA-A alleles in susceptibility to multiple sclerosis.</th>\n",
       "      <td>50.16</td>\n",
       "    </tr>\n",
       "    <tr>\n",
       "      <th>acta dermato venereologica</th>\n",
       "      <th>The Importance of a Full Clinical Examination: Assessment of Index\\nLesions Referred to a Skin Cancer Clinic Without a Total Body Skin\\nExamination Would Miss One in Three Melanomas</th>\n",
       "      <td>53.96</td>\n",
       "    </tr>\n",
       "    <tr>\n",
       "      <th>acta diabetologica</th>\n",
       "      <th>A rare SNP in pre-miR-34a is associated with increased levels of miR-34a in pancreatic beta cells</th>\n",
       "      <td>336.28</td>\n",
       "    </tr>\n",
       "    <tr>\n",
       "      <th>acta f</th>\n",
       "      <th>Crystallization and preliminary crystallographic analysis of the major capsid proteins VP16 and VP17 of bacteriophage P23-77</th>\n",
       "      <td>54.90</td>\n",
       "    </tr>\n",
       "    <tr>\n",
       "      <th>acta neuropathol</th>\n",
       "      <th>Overexpression of human wild-type FUS causes progressive motor neuron degeneration in an age- and dose-dependent fashion</th>\n",
       "      <td>901.04</td>\n",
       "    </tr>\n",
       "    <tr>\n",
       "      <th rowspan=\"3\" valign=\"top\">acta neuropathologica</th>\n",
       "      <th>Insufficient OPC migration into demyelinated lesions is a cause of poor remyelination in MS and mouse models</th>\n",
       "      <td>250.97</td>\n",
       "    </tr>\n",
       "    <tr>\n",
       "      <th>Unravelling the enigma o selective vulnerability in neurodegeneration: motor neurons resistant to degeneration in ALS show distinct gene expression characteristics and decreased susceptibility to excitotoxicity</th>\n",
       "      <td>348.21</td>\n",
       "    </tr>\n",
       "    <tr>\n",
       "      <th>Î±-Synucleinopathy associated with G51D SNCA mutation: A link between Parkinson's disease and multiple system atrophy?</th>\n",
       "      <td>884.01</td>\n",
       "    </tr>\n",
       "    <tr>\n",
       "      <th>acta opthalmologica</th>\n",
       "      <th>Visual and psychological morbidity among patients with autosomal dominant optic atrophy</th>\n",
       "      <td>270.16</td>\n",
       "    </tr>\n",
       "    <tr>\n",
       "      <th>acta physiol</th>\n",
       "      <th>Integration of transient receptor potential canonical channels with lipids</th>\n",
       "      <td>991.50</td>\n",
       "    </tr>\n",
       "    <tr>\n",
       "      <th rowspan=\"2\" valign=\"top\">addiction</th>\n",
       "      <th>Acute alcohol-related dysfunction as a predictor of employment status in a longitudinal study of working age men in Izhevsk, Russia.</th>\n",
       "      <td>919.51</td>\n",
       "    </tr>\n",
       "    <tr>\n",
       "      <th>Childhood conduct disorder trajectories, prior risk factors and cannabis use at age 16: birth cohort study</th>\n",
       "      <td>352.94</td>\n",
       "    </tr>\n",
       "    <tr>\n",
       "      <th rowspan=\"3\" valign=\"top\">advances in experimental medicine and biology</th>\n",
       "      <th>Modelling Cerebrovascular Reactivity: A Novel Near-Infrared Biomarker of Cerebral Autoregulation?</th>\n",
       "      <td>928.46</td>\n",
       "    </tr>\n",
       "    <tr>\n",
       "      <th>Normobaric hyperoxia does not change optical scattering or pathlength but does increase oxidised cytochrome C oxidase concentration in patients with brain injury</th>\n",
       "      <td>928.46</td>\n",
       "    </tr>\n",
       "    <tr>\n",
       "      <th>Oscillations in cerebral haemodynamics in patients with falciparum malaria</th>\n",
       "      <td>928.46</td>\n",
       "    </tr>\n",
       "    <tr>\n",
       "      <th>...</th>\n",
       "      <th>...</th>\n",
       "      <td>...</td>\n",
       "    </tr>\n",
       "    <tr>\n",
       "      <th>tropical animal health &amp; production</th>\n",
       "      <th>Low prevalence of bovine tuberculosis in Somali pastoral livestock, southeast Ethiopia</th>\n",
       "      <td>54.78</td>\n",
       "    </tr>\n",
       "    <tr>\n",
       "      <th rowspan=\"6\" valign=\"top\">tropical medicine and international health</th>\n",
       "      <th>Disengagement from care in a decentralised primary care antiretroviral treatment programme: cohort study in rural South Africa</th>\n",
       "      <td>836.92</td>\n",
       "    </tr>\n",
       "    <tr>\n",
       "      <th>Epidemiology and control of trachoma: systamatic review</th>\n",
       "      <td>974.72</td>\n",
       "    </tr>\n",
       "    <tr>\n",
       "      <th>Maternal recall of birth weight and birth size in Entebbe, Uganda</th>\n",
       "      <td>896.93</td>\n",
       "    </tr>\n",
       "    <tr>\n",
       "      <th>Meningococcal carriage in the African meningitis belt.</th>\n",
       "      <td>949.32</td>\n",
       "    </tr>\n",
       "    <tr>\n",
       "      <th>Nutritional supplementation: the additional costs of managing children infected with HIVin resource-constrained settings</th>\n",
       "      <td>530.77</td>\n",
       "    </tr>\n",
       "    <tr>\n",
       "      <th>Preparing for national school-based deworming in Kenya: the validation and large-scale distribution of school questionnaires with urinary schistosomiasis\\n</th>\n",
       "      <td>870.32</td>\n",
       "    </tr>\n",
       "    <tr>\n",
       "      <th rowspan=\"2\" valign=\"top\">tuberculosis</th>\n",
       "      <th>A novel assay of antimycobacterial activity and phagocytosis by human neutrophils</th>\n",
       "      <td>322.57</td>\n",
       "    </tr>\n",
       "    <tr>\n",
       "      <th>Pathways of IL-1? secretion by macrophages infected with clinical Mycobacterium tuberculosis strains</th>\n",
       "      <td>999.94</td>\n",
       "    </tr>\n",
       "    <tr>\n",
       "      <th>urban history</th>\n",
       "      <th>Leisure, economy and colonial urbanism: Darjeeling, 1835-1930</th>\n",
       "      <td>34.00</td>\n",
       "    </tr>\n",
       "    <tr>\n",
       "      <th>urolithiasis</th>\n",
       "      <th>Accuracy of urine pH testing in a regional metabolic renal clinic: is the dipstick accurate enough?</th>\n",
       "      <td>112.40</td>\n",
       "    </tr>\n",
       "    <tr>\n",
       "      <th rowspan=\"5\" valign=\"top\">vaccine</th>\n",
       "      <th>Cattle immunized against the pathogenic l-?-glycerol-3-phosphate oxidase of Mycoplasma mycoides subs. mycoides fail to generate neutralizing antibodies and succumb to disease on challenge ?</th>\n",
       "      <td>448.38</td>\n",
       "    </tr>\n",
       "    <tr>\n",
       "      <th>Human papillomavirus (HPV) vaccine implementation in low and middle-income countries: health system experiences and propsects.</th>\n",
       "      <td>433.34</td>\n",
       "    </tr>\n",
       "    <tr>\n",
       "      <th>Increased IgG but normal IgA anti-pneumococcal protein antibodies in lung of HIV-infected adults</th>\n",
       "      <td>428.68</td>\n",
       "    </tr>\n",
       "    <tr>\n",
       "      <th>Protection against avian necrotic enteritis after immunisation with NetB genetic or formaldehyde toxoids</th>\n",
       "      <td>477.73</td>\n",
       "    </tr>\n",
       "    <tr>\n",
       "      <th>Tailoring subunit vaccine immunogenicity: maximizing antibody and T cell responses by using combinations of adenovirus, poxvirus and protein-adjuvant vaccines against Plasmodium falciparum MSP1.</th>\n",
       "      <td>328.84</td>\n",
       "    </tr>\n",
       "    <tr>\n",
       "      <th>vascular pharmacology</th>\n",
       "      <th>Signal transduction and modulating pathways in Trypamine-evoked vasopressor responses of the rat isolated</th>\n",
       "      <td>352.53</td>\n",
       "    </tr>\n",
       "    <tr>\n",
       "      <th>veterinary microbiology</th>\n",
       "      <th>Isolation of canine Anaplasma phagocytophilum strains from clinical blood samples using the Ixodes ricinus cell line IRE/CTVM20</th>\n",
       "      <td>451.49</td>\n",
       "    </tr>\n",
       "    <tr>\n",
       "      <th rowspan=\"2\" valign=\"top\">veterinary parasitology</th>\n",
       "      <th>Persistence of the efficacy of copper oxide wire particles against Haemonchus contortus in grazing South African goats.</th>\n",
       "      <td>1070.81</td>\n",
       "    </tr>\n",
       "    <tr>\n",
       "      <th>Toxocara canis: molecular basis of immune recognition and evasion</th>\n",
       "      <td>488.17</td>\n",
       "    </tr>\n",
       "    <tr>\n",
       "      <th>veterinary record</th>\n",
       "      <th>Proactive dairy cattle disease control in the UK: veterinary surgeons' involvement and associated characteristics</th>\n",
       "      <td>40.00</td>\n",
       "    </tr>\n",
       "    <tr>\n",
       "      <th>veterinary research</th>\n",
       "      <th>Understanding foot-and-mouth disease virus transmission biology: identification of the indicators of infectiousness</th>\n",
       "      <td>0.93</td>\n",
       "    </tr>\n",
       "    <tr>\n",
       "      <th rowspan=\"2\" valign=\"top\">virology</th>\n",
       "      <th>An essential fifth coding ORF in the sobemoviruses</th>\n",
       "      <td>435.05</td>\n",
       "    </tr>\n",
       "    <tr>\n",
       "      <th>Metagenomic study of the viruses of African straw-coloured fruit bats: detection of a chiropteran poxvirus and isolation of a novel adenovirus</th>\n",
       "      <td>421.96</td>\n",
       "    </tr>\n",
       "    <tr>\n",
       "      <th>virology journal</th>\n",
       "      <th>Label-free quantitative proteomics reveals regulation of interferon-induced protein with tetratricopeptide repeats 3 (IFIT3) and 5'-3'-exoribonuclease 2 (XRN2) during respiratory syncytial virus infection.</th>\n",
       "      <td>242.00</td>\n",
       "    </tr>\n",
       "    <tr>\n",
       "      <th>virus research</th>\n",
       "      <th>Prostratin exhibits both replication enhancing and inhibiting effects on FIV infection of feline CD4(+) T-cells</th>\n",
       "      <td>947.09</td>\n",
       "    </tr>\n",
       "    <tr>\n",
       "      <th rowspan=\"2\" valign=\"top\">vision research</th>\n",
       "      <th>Perceptual learning of second order cues for layer decomposition</th>\n",
       "      <td>1070.81</td>\n",
       "    </tr>\n",
       "    <tr>\n",
       "      <th>Sensitivity to numerosity is not a unique visuospatial psychophysical predictor of mathematical ability</th>\n",
       "      <td>456.18</td>\n",
       "    </tr>\n",
       "    <tr>\n",
       "      <th>visual neuroscience</th>\n",
       "      <th>Masking within and across visual dimensions: Psychophysical evidence for perceptual segregation of color and motion</th>\n",
       "      <td>34.00</td>\n",
       "    </tr>\n",
       "    <tr>\n",
       "      <th>zoonoses and public health</th>\n",
       "      <th>Ecology of zoonotic infectious diseases in bats: current knowledge and future directions</th>\n",
       "      <td>272.15</td>\n",
       "    </tr>\n",
       "  </tbody>\n",
       "</table>\n",
       "<p>2126 rows × 1 columns</p>\n",
       "</div>"
      ],
      "text/plain": [
       "                                                                                                       COST (£) charged to Wellcome (inc VAT when charged)\n",
       "Journal title                                      Article title                                                                                          \n",
       "academy of nutrition and dietetics                 Parent support and parent mediated behaviours a...                                             379.54  \n",
       "acs chemical biology                               A Novel Allosteric Inhibitor of the Uridine Dip...                                             294.59  \n",
       "                                                   Chemical proteomic analysis reveals the drugabi...                                             294.78  \n",
       "                                                   Discovery of ?2 Adrenergic Receptor Ligands Usi...                                              47.07  \n",
       "                                                   Discovery of an allosteric inhibitor binding si...                                             267.76  \n",
       "                                                   Synthesis of alpha-glucan in mycobacteria invol...                                             286.73  \n",
       "acs chemical neuroscience                          Continuous online microdialysis using microflui...                                             186.80  \n",
       "acs nano                                           HYDROXY-TERMINATED CONJUGATED POLYMER NANOPARTI...                                              42.89  \n",
       "                                                   Skin dendritic cell targeting via microneedle a...                                              93.39  \n",
       "acta crystallographica section d,  biological c... Clustering procedures for the optimal selection...                                              71.42  \n",
       "acta crystallographica section d: biological cr... Intensity statistics in the presence of transla...                                              73.74  \n",
       "acta crystallographica section f: structural bi... Structure of Pseudomonas aeruginosa inosine 5'-...                                               7.67  \n",
       "                                                   Structure of diaminohydroxyphosphoribosylaminop...                                              85.60  \n",
       "acta crystallographica, section d                  Nearest-cell: a fast and easy tool for locating...                                              57.18  \n",
       "acta crystallography d                             Crystallization, dehydration and experimental p...                                              74.19  \n",
       "acta d                                             Structure of HLA-A*0301 in complex with a pepti...                                              50.16  \n",
       "acta dermato venereologica                         The Importance of a Full Clinical Examination: ...                                              53.96  \n",
       "acta diabetologica                                 A rare SNP in pre-miR-34a is associated with in...                                             336.28  \n",
       "acta f                                             Crystallization and preliminary crystallographi...                                              54.90  \n",
       "acta neuropathol                                   Overexpression of human wild-type FUS causes pr...                                             901.04  \n",
       "acta neuropathologica                              Insufficient OPC migration into demyelinated le...                                             250.97  \n",
       "                                                   Unravelling the enigma o selective vulnerabilit...                                             348.21  \n",
       "                                                   Î±-Synucleinopathy associated with G51D SNCA mu...                                             884.01  \n",
       "acta opthalmologica                                Visual and psychological morbidity among patien...                                             270.16  \n",
       "acta physiol                                       Integration of transient receptor potential can...                                             991.50  \n",
       "addiction                                          Acute alcohol-related dysfunction as a predicto...                                             919.51  \n",
       "                                                   Childhood conduct disorder trajectories, prior ...                                             352.94  \n",
       "advances in experimental medicine and biology      Modelling Cerebrovascular Reactivity: A Novel N...                                             928.46  \n",
       "                                                   Normobaric hyperoxia does not change optical sc...                                             928.46  \n",
       "                                                   Oscillations in cerebral haemodynamics in patie...                                             928.46  \n",
       "...                                                                                                                                                  ...  \n",
       "tropical animal health & production                Low prevalence of bovine tuberculosis in Somali...                                              54.78  \n",
       "tropical medicine and international health         Disengagement from care in a decentralised prim...                                             836.92  \n",
       "                                                   Epidemiology and control of trachoma: systamati...                                             974.72  \n",
       "                                                   Maternal recall of birth weight and birth size ...                                             896.93  \n",
       "                                                   Meningococcal carriage in the African meningiti...                                             949.32  \n",
       "                                                   Nutritional supplementation: the additional cos...                                             530.77  \n",
       "                                                   Preparing for national school-based deworming i...                                             870.32  \n",
       "tuberculosis                                       A novel assay of antimycobacterial activity and...                                             322.57  \n",
       "                                                   Pathways of IL-1? secretion by macrophages infe...                                             999.94  \n",
       "urban history                                      Leisure, economy and colonial urbanism: Darjeel...                                              34.00  \n",
       "urolithiasis                                       Accuracy of urine pH testing in a regional meta...                                             112.40  \n",
       "vaccine                                            Cattle immunized against the pathogenic l-?-gly...                                             448.38  \n",
       "                                                   Human papillomavirus (HPV) vaccine implementati...                                             433.34  \n",
       "                                                   Increased IgG but normal IgA anti-pneumococcal ...                                             428.68  \n",
       "                                                   Protection against avian necrotic enteritis aft...                                             477.73  \n",
       "                                                   Tailoring subunit vaccine immunogenicity: maxim...                                             328.84  \n",
       "vascular pharmacology                              Signal transduction and modulating pathways in ...                                             352.53  \n",
       "veterinary microbiology                            Isolation of canine Anaplasma phagocytophilum s...                                             451.49  \n",
       "veterinary parasitology                            Persistence of the efficacy of copper oxide wir...                                            1070.81  \n",
       "                                                   Toxocara canis: molecular basis of immune recog...                                             488.17  \n",
       "veterinary record                                  Proactive dairy cattle disease control in the U...                                              40.00  \n",
       "veterinary research                                Understanding foot-and-mouth disease virus tran...                                               0.93  \n",
       "virology                                           An essential fifth coding ORF in the sobemoviruses                                             435.05  \n",
       "                                                   Metagenomic study of the viruses of African str...                                             421.96  \n",
       "virology journal                                   Label-free quantitative proteomics reveals regu...                                             242.00  \n",
       "virus research                                     Prostratin exhibits both replication enhancing ...                                             947.09  \n",
       "vision research                                    Perceptual learning of second order cues for la...                                            1070.81  \n",
       "                                                   Sensitivity to numerosity is not a unique visuo...                                             456.18  \n",
       "visual neuroscience                                Masking within and across visual dimensions: Ps...                                              34.00  \n",
       "zoonoses and public health                         Ecology of zoonotic infectious diseases in bats...                                             272.15  \n",
       "\n",
       "[2126 rows x 1 columns]"
      ]
     },
     "execution_count": 145,
     "metadata": {},
     "output_type": "execute_result"
    }
   ],
   "source": [
    "pd.pivot_table(values=['COST (£) charged to Wellcome (inc VAT when charged)'], index=['Journal title','Article title'], aggfunc=np.mean)"
   ]
  },
  {
   "cell_type": "code",
   "execution_count": null,
   "metadata": {},
   "outputs": [],
   "source": []
  }
 ],
 "metadata": {
  "kernelspec": {
   "display_name": "Python 3",
   "language": "python",
   "name": "python3"
  },
  "language_info": {
   "codemirror_mode": {
    "name": "ipython",
    "version": 3
   },
   "file_extension": ".py",
   "mimetype": "text/x-python",
   "name": "python",
   "nbconvert_exporter": "python",
   "pygments_lexer": "ipython3",
   "version": "3.7.0"
  }
 },
 "nbformat": 4,
 "nbformat_minor": 2
}
